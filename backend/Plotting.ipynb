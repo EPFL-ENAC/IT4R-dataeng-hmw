{
 "cells": [
  {
   "cell_type": "markdown",
   "id": "3432e7af",
   "metadata": {},
   "source": [
    "Plotting the required data\n",
    "------------------------------------\n",
    "\n",
    "In this notebook I initialize the connection to the database, run the query to select the required data, and save a figure.\n",
    "\n",
    "First, I start by initializing the same environment as the fastapi"
   ]
  },
  {
   "cell_type": "code",
   "execution_count": 1,
   "id": "f89f245a",
   "metadata": {},
   "outputs": [
    {
     "name": "stdout",
     "output_type": "stream",
     "text": [
      "DB already exists\n",
      "2022-02-03 18:51:36,456 INFO sqlalchemy.engine.Engine select pg_catalog.version()\n",
      "2022-02-03 18:51:36,457 INFO sqlalchemy.engine.Engine [raw sql] {}\n",
      "2022-02-03 18:51:36,460 INFO sqlalchemy.engine.Engine select current_schema()\n",
      "2022-02-03 18:51:36,463 INFO sqlalchemy.engine.Engine [raw sql] {}\n",
      "2022-02-03 18:51:36,466 INFO sqlalchemy.engine.Engine show standard_conforming_strings\n",
      "2022-02-03 18:51:36,467 INFO sqlalchemy.engine.Engine [raw sql] {}\n",
      "2022-02-03 18:51:36,470 INFO sqlalchemy.engine.Engine BEGIN (implicit)\n",
      "2022-02-03 18:51:36,472 INFO sqlalchemy.engine.Engine select relname from pg_class c join pg_namespace n on n.oid=c.relnamespace where pg_catalog.pg_table_is_visible(c.oid) and relname=%(name)s\n",
      "2022-02-03 18:51:36,474 INFO sqlalchemy.engine.Engine [generated in 0.00193s] {'name': 'experience'}\n",
      "2022-02-03 18:51:36,481 INFO sqlalchemy.engine.Engine select relname from pg_class c join pg_namespace n on n.oid=c.relnamespace where pg_catalog.pg_table_is_visible(c.oid) and relname=%(name)s\n",
      "2022-02-03 18:51:36,483 INFO sqlalchemy.engine.Engine [cached since 0.01099s ago] {'name': 'publication'}\n",
      "2022-02-03 18:51:36,488 INFO sqlalchemy.engine.Engine select relname from pg_class c join pg_namespace n on n.oid=c.relnamespace where pg_catalog.pg_table_is_visible(c.oid) and relname=%(name)s\n",
      "2022-02-03 18:51:36,495 INFO sqlalchemy.engine.Engine [cached since 0.02257s ago] {'name': 'material_type'}\n",
      "2022-02-03 18:51:36,498 INFO sqlalchemy.engine.Engine select relname from pg_class c join pg_namespace n on n.oid=c.relnamespace where pg_catalog.pg_table_is_visible(c.oid) and relname=%(name)s\n",
      "2022-02-03 18:51:36,500 INFO sqlalchemy.engine.Engine [cached since 0.02782s ago] {'name': 'geometry'}\n",
      "2022-02-03 18:51:36,504 INFO sqlalchemy.engine.Engine select relname from pg_class c join pg_namespace n on n.oid=c.relnamespace where pg_catalog.pg_table_is_visible(c.oid) and relname=%(name)s\n",
      "2022-02-03 18:51:36,505 INFO sqlalchemy.engine.Engine [cached since 0.03329s ago] {'name': 'laminates_and_assemblies'}\n",
      "2022-02-03 18:51:36,509 INFO sqlalchemy.engine.Engine select relname from pg_class c join pg_namespace n on n.oid=c.relnamespace where pg_catalog.pg_table_is_visible(c.oid) and relname=%(name)s\n",
      "2022-02-03 18:51:36,510 INFO sqlalchemy.engine.Engine [cached since 0.03755s ago] {'name': 'test_conditions'}\n",
      "2022-02-03 18:51:36,516 INFO sqlalchemy.engine.Engine select relname from pg_class c join pg_namespace n on n.oid=c.relnamespace where pg_catalog.pg_table_is_visible(c.oid) and relname=%(name)s\n",
      "2022-02-03 18:51:36,517 INFO sqlalchemy.engine.Engine [cached since 0.04494s ago] {'name': 'dic_analysis'}\n",
      "2022-02-03 18:51:36,520 INFO sqlalchemy.engine.Engine select relname from pg_class c join pg_namespace n on n.oid=c.relnamespace where pg_catalog.pg_table_is_visible(c.oid) and relname=%(name)s\n",
      "2022-02-03 18:51:36,521 INFO sqlalchemy.engine.Engine [cached since 0.04875s ago] {'name': 'tests'}\n",
      "2022-02-03 18:51:36,523 INFO sqlalchemy.engine.Engine select relname from pg_class c join pg_namespace n on n.oid=c.relnamespace where pg_catalog.pg_table_is_visible(c.oid) and relname=%(name)s\n",
      "2022-02-03 18:51:36,524 INFO sqlalchemy.engine.Engine [cached since 0.05216s ago] {'name': 'fatigue_data'}\n",
      "2022-02-03 18:51:36,537 INFO sqlalchemy.engine.Engine select relname from pg_class c join pg_namespace n on n.oid=c.relnamespace where pg_catalog.pg_table_is_visible(c.oid) and relname=%(name)s\n",
      "2022-02-03 18:51:36,538 INFO sqlalchemy.engine.Engine [cached since 0.066s ago] {'name': 'experiment_units'}\n",
      "2022-02-03 18:51:36,542 INFO sqlalchemy.engine.Engine select relname from pg_class c join pg_namespace n on n.oid=c.relnamespace where pg_catalog.pg_table_is_visible(c.oid) and relname=%(name)s\n",
      "2022-02-03 18:51:36,543 INFO sqlalchemy.engine.Engine [cached since 0.07086s ago] {'name': 'test_units'}\n",
      "2022-02-03 18:51:36,548 INFO sqlalchemy.engine.Engine \n",
      "            SELECT EXISTS (\n",
      "                SELECT * FROM pg_catalog.pg_type t\n",
      "                WHERE t.typname = %(typname)s\n",
      "                AND pg_type_is_visible(t.oid)\n",
      "                )\n",
      "                \n",
      "2022-02-03 18:51:36,549 INFO sqlalchemy.engine.Engine [generated in 0.00152s] {'typname': 'ExpType'}\n",
      "2022-02-03 18:51:36,552 INFO sqlalchemy.engine.Engine \n",
      "            SELECT EXISTS (\n",
      "                SELECT * FROM pg_catalog.pg_type t\n",
      "                WHERE t.typname = %(typname)s\n",
      "                AND pg_type_is_visible(t.oid)\n",
      "                )\n",
      "                \n",
      "2022-02-03 18:51:36,553 INFO sqlalchemy.engine.Engine [cached since 0.00544s ago] {'typname': 'FracMode'}\n",
      "2022-02-03 18:51:36,556 INFO sqlalchemy.engine.Engine \n",
      "            SELECT EXISTS (\n",
      "                SELECT * FROM pg_catalog.pg_type t\n",
      "                WHERE t.typname = %(typname)s\n",
      "                AND pg_type_is_visible(t.oid)\n",
      "                )\n",
      "                \n",
      "2022-02-03 18:51:36,557 INFO sqlalchemy.engine.Engine [cached since 0.009395s ago] {'typname': 'FatTest'}\n",
      "2022-02-03 18:51:36,560 INFO sqlalchemy.engine.Engine \n",
      "            SELECT EXISTS (\n",
      "                SELECT * FROM pg_catalog.pg_type t\n",
      "                WHERE t.typname = %(typname)s\n",
      "                AND pg_type_is_visible(t.oid)\n",
      "                )\n",
      "                \n",
      "2022-02-03 18:51:36,561 INFO sqlalchemy.engine.Engine [cached since 0.01339s ago] {'typname': 'ConMode'}\n",
      "2022-02-03 18:51:36,563 INFO sqlalchemy.engine.Engine COMMIT\n"
     ]
    }
   ],
   "source": [
    "import json\n",
    "from datetime import date\n",
    "from typing import List\n",
    "\n",
    "from fastapi import FastAPI, File, Query, UploadFile\n",
    "from fastapi.middleware.cors import CORSMiddleware\n",
    "\n",
    "from ccfatigue import analyzer\n",
    "from ccfatigue import dashboarder\n",
    "from ccfatigue.model import (\n",
    "    Dashboard, Experience, Plot, SnCurveMethod, SnCurveResult, Test)\n",
    "from ccfatigue.config import settings\n",
    "from ccfatigue.services.database import Base, database, engine\n",
    "from ccfatigue.models.database import *\n",
    "\n",
    "Base.metadata.create_all(engine)"
   ]
  },
  {
   "cell_type": "markdown",
   "id": "187efd96",
   "metadata": {},
   "source": [
    "Here, I wanted to define some of the variable and some initial ORM queries to check that everything is in order."
   ]
  },
  {
   "cell_type": "code",
   "execution_count": 2,
   "id": "09c94e28",
   "metadata": {},
   "outputs": [],
   "source": [
    "fatigue = Base.metadata.tables['fatigue_data']"
   ]
  },
  {
   "cell_type": "code",
   "execution_count": 3,
   "id": "4f6894ff",
   "metadata": {},
   "outputs": [],
   "source": [
    "from sqlalchemy.orm import sessionmaker, aliased\n",
    "from sqlalchemy import func\n"
   ]
  },
  {
   "cell_type": "code",
   "execution_count": 4,
   "id": "98f6084e",
   "metadata": {},
   "outputs": [],
   "source": [
    "Session = sessionmaker()\n",
    "Session.configure(bind=engine)\n",
    "session = Session()\n"
   ]
  },
  {
   "cell_type": "code",
   "execution_count": 5,
   "id": "87f62792",
   "metadata": {},
   "outputs": [
    {
     "name": "stdout",
     "output_type": "stream",
     "text": [
      "2022-02-03 18:51:36,617 INFO sqlalchemy.engine.Engine BEGIN (implicit)\n",
      "2022-02-03 18:51:36,621 INFO sqlalchemy.engine.Engine SELECT fatigue_data.\"Folder\" AS \"fatigue_data_Folder\", max(fatigue_data.\"Machine_Load\") AS max_1 \n",
      "FROM fatigue_data GROUP BY fatigue_data.\"Folder\"\n",
      "2022-02-03 18:51:36,623 INFO sqlalchemy.engine.Engine [generated in 0.00111s] {}\n",
      "[('/home/dt/git/epfl/IT4R-dataeng-hmw/Data/TST_FakeResearcher_2019-09_QS', 5.733086426), ('/home/dt/git/epfl/IT4R-dataeng-hmw/Data/TST_FakeResearcher_2020-06_FA', 35.077697266), ('/home/dt/git/epfl/IT4R-dataeng-hmw/Data/TST_FakeResearcher_2021-06_FA', 31.0), ('/home/dt/git/epfl/IT4R-dataeng-hmw/Data/TST_Khalooei_2021-10_FA', 7.632850098)]\n"
     ]
    }
   ],
   "source": [
    "q1 = session.query(\n",
    "    fatigue.columns['Folder'], func.max(fatigue.columns['Machine_Load'])).group_by(\n",
    "    fatigue.columns['Folder']).all()\n",
    "print(q1)"
   ]
  },
  {
   "cell_type": "code",
   "execution_count": 6,
   "id": "330f5bca",
   "metadata": {},
   "outputs": [
    {
     "name": "stdout",
     "output_type": "stream",
     "text": [
      "2022-02-03 18:51:37,169 INFO sqlalchemy.engine.Engine SELECT tests.\"Folder\" AS \"tests_Folder\", tests.\"Stress Ratio\" AS \"tests_Stress Ratio\" \n",
      "FROM tests\n",
      "2022-02-03 18:51:37,175 INFO sqlalchemy.engine.Engine [generated in 0.00681s] {}\n",
      "[('/home/dt/git/epfl/IT4R-dataeng-hmw/Data/TST_FakeResearcher_2020-06_FA', 0.1), ('/home/dt/git/epfl/IT4R-dataeng-hmw/Data/TST_FakeResearcher_2020-06_FA', 0.2), ('/home/dt/git/epfl/IT4R-dataeng-hmw/Data/TST_FakeResearcher_2020-06_FA', 0.2), ('/home/dt/git/epfl/IT4R-dataeng-hmw/Data/TST_FakeResearcher_2020-06_FA', 0.2), ('/home/dt/git/epfl/IT4R-dataeng-hmw/Data/TST_FakeResearcher_2020-06_FA', 0.1), ('/home/dt/git/epfl/IT4R-dataeng-hmw/Data/TST_FakeResearcher_2019-09_QS', 0.9), ('/home/dt/git/epfl/IT4R-dataeng-hmw/Data/TST_FakeResearcher_2019-09_QS', 0.9), ('/home/dt/git/epfl/IT4R-dataeng-hmw/Data/TST_FakeResearcher_2019-09_QS', 0.9), ('/home/dt/git/epfl/IT4R-dataeng-hmw/Data/TST_FakeResearcher_2019-09_QS', 0.9), ('/home/dt/git/epfl/IT4R-dataeng-hmw/Data/TST_FakeResearcher_2019-09_QS', 0.1), ('/home/dt/git/epfl/IT4R-dataeng-hmw/Data/TST_Khalooei_2021-10_FA', 0.1), ('/home/dt/git/epfl/IT4R-dataeng-hmw/Data/TST_Khalooei_2021-10_FA', 0.1), ('/home/dt/git/epfl/IT4R-dataeng-hmw/Data/TST_Khalooei_2021-10_FA', 0.1), ('/home/dt/git/epfl/IT4R-dataeng-hmw/Data/TST_Khalooei_2021-10_FA', 0.1), ('/home/dt/git/epfl/IT4R-dataeng-hmw/Data/TST_Khalooei_2021-10_FA', 0.1), ('/home/dt/git/epfl/IT4R-dataeng-hmw/Data/TST_Khalooei_2021-10_FA', 0.1), ('/home/dt/git/epfl/IT4R-dataeng-hmw/Data/TST_Khalooei_2021-10_FA', 0.5), ('/home/dt/git/epfl/IT4R-dataeng-hmw/Data/TST_Khalooei_2021-10_FA', 0.5), ('/home/dt/git/epfl/IT4R-dataeng-hmw/Data/TST_Khalooei_2021-10_FA', 0.5), ('/home/dt/git/epfl/IT4R-dataeng-hmw/Data/TST_Khalooei_2021-10_FA', 0.5), ('/home/dt/git/epfl/IT4R-dataeng-hmw/Data/TST_Khalooei_2021-10_FA', 0.5), ('/home/dt/git/epfl/IT4R-dataeng-hmw/Data/TST_Khalooei_2021-10_FA', 0.5), ('/home/dt/git/epfl/IT4R-dataeng-hmw/Data/TST_Khalooei_2021-10_FA', 0.5), ('/home/dt/git/epfl/IT4R-dataeng-hmw/Data/TST_Khalooei_2021-10_FA', 0.5), ('/home/dt/git/epfl/IT4R-dataeng-hmw/Data/TST_Khalooei_2021-10_FA', 0.5), ('/home/dt/git/epfl/IT4R-dataeng-hmw/Data/TST_Khalooei_2021-10_FA', 0.5), ('/home/dt/git/epfl/IT4R-dataeng-hmw/Data/TST_Khalooei_2021-10_FA', 0.5), ('/home/dt/git/epfl/IT4R-dataeng-hmw/Data/TST_Khalooei_2021-10_FA', 0.8), ('/home/dt/git/epfl/IT4R-dataeng-hmw/Data/TST_Khalooei_2021-10_FA', 0.8), ('/home/dt/git/epfl/IT4R-dataeng-hmw/Data/TST_Khalooei_2021-10_FA', 0.8), ('/home/dt/git/epfl/IT4R-dataeng-hmw/Data/TST_Khalooei_2021-10_FA', 0.8), ('/home/dt/git/epfl/IT4R-dataeng-hmw/Data/TST_Khalooei_2021-10_FA', 0.8), ('/home/dt/git/epfl/IT4R-dataeng-hmw/Data/TST_Khalooei_2021-10_FA', 0.8), ('/home/dt/git/epfl/IT4R-dataeng-hmw/Data/TST_FakeResearcher_2021-06_FA', 0.8), ('/home/dt/git/epfl/IT4R-dataeng-hmw/Data/TST_FakeResearcher_2021-06_FA', 0.8), ('/home/dt/git/epfl/IT4R-dataeng-hmw/Data/TST_FakeResearcher_2021-06_FA', 0.8), ('/home/dt/git/epfl/IT4R-dataeng-hmw/Data/TST_FakeResearcher_2021-06_FA', 0.1), ('/home/dt/git/epfl/IT4R-dataeng-hmw/Data/TST_FakeResearcher_2021-06_FA', 0.1), ('/home/dt/git/epfl/IT4R-dataeng-hmw/Data/TST_FakeResearcher_2021-06_FA', 0.1)]\n"
     ]
    }
   ],
   "source": [
    "tests = Base.metadata.tables['tests']\n",
    "q2 = session.query(\n",
    "    tests.columns[\"Folder\"], tests.columns[\"Stress Ratio\"]).all()\n",
    "print(q2)"
   ]
  },
  {
   "cell_type": "markdown",
   "id": "56c65f14",
   "metadata": {},
   "source": [
    "Here is the query that I want to run, tested on PSQL, that I wanted to convert to something more legible.\n",
    "\n",
    "The query I want to run is a bit complex, so I write it down.\n",
    "First I aggregate to find the maxload, then I join on tests to have the final result\n",
    "\n",
    "``` sql\n",
    "SELECT aa.maxload, t.\"Stress Ratio\" \n",
    "FROM \n",
    "(\n",
    "  SELECT \n",
    "  MAX(\"Machine_Load\") as maxload,  f.\"Folder\", f.\"TestMetadata_id\"\n",
    "  FROM fatigue_data as f \n",
    "  JOIN \n",
    "  tests as t \n",
    "  ON \n",
    "  ( f.\"Folder\" = t.\"Folder\" AND f.\"TestMetadata_id\" = t.\"Specimen number\") \n",
    "  GROUP BY \n",
    "  f.\"Folder\", f.\"TestMetadata_id\"\n",
    ") as aa \n",
    "JOIN\n",
    "tests as t \n",
    "ON\n",
    "( aa.\"Folder\" = t.\"Folder\" AND aa.\"TestMetadata_id\" = t.\"Specimen number\")\n",
    "```\n",
    "\n",
    "Unfortunately I run of time to convert it as I wanted!"
   ]
  },
  {
   "cell_type": "code",
   "execution_count": 7,
   "id": "789ffa78",
   "metadata": {},
   "outputs": [],
   "source": [
    "mmax = aliased(func.max(fatigue.columns['Machine_Load']))\n",
    "ff = fatigue.columns[\"Folder\"]\n",
    "cf = tests.columns[\"Folder\"]\n",
    "fid = fatigue.columns[\"TestMetadata_id\"]\n",
    "tid = tests.columns[\"Specimen number\"]"
   ]
  },
  {
   "cell_type": "markdown",
   "id": "21ee0332",
   "metadata": {},
   "source": [
    "I wanted to write down an ORM with the request but I got mixed up in the construction of the subqueries...\n",
    "apologies for the raw execution."
   ]
  },
  {
   "cell_type": "code",
   "execution_count": 8,
   "id": "609d20d7",
   "metadata": {},
   "outputs": [
    {
     "name": "stdout",
     "output_type": "stream",
     "text": [
      "2022-02-03 18:51:37,216 INFO sqlalchemy.engine.Engine SELECT aa.maxload, t.\"Stress Ratio\" FROM ( SELECT MAX(\"Machine_Load\") as maxload,  f.\"Folder\", f.\"TestMetadata_id\"\n",
      "  FROM fatigue_data as f \n",
      "  JOIN \n",
      "  tests as t \n",
      "  ON \n",
      "  ( f.\"Folder\" = t.\"Folder\" AND f.\"TestMetadata_id\" = t.\"Specimen number\") \n",
      "  GROUP BY \n",
      "  f.\"Folder\", f.\"TestMetadata_id\"\n",
      ") as aa \n",
      "JOIN\n",
      "tests as t \n",
      "ON\n",
      "( aa.\"Folder\" = t.\"Folder\" AND aa.\"TestMetadata_id\" = t.\"Specimen number\")\n",
      "2022-02-03 18:51:37,218 INFO sqlalchemy.engine.Engine [generated in 0.00177s] {}\n"
     ]
    }
   ],
   "source": [
    "sqlstatement = \"\"\"SELECT aa.maxload, t.\"Stress Ratio\" FROM ( SELECT MAX(\"Machine_Load\") as maxload,  f.\"Folder\", f.\"TestMetadata_id\"\n",
    "  FROM fatigue_data as f \n",
    "  JOIN \n",
    "  tests as t \n",
    "  ON \n",
    "  ( f.\"Folder\" = t.\"Folder\" AND f.\"TestMetadata_id\" = t.\"Specimen number\") \n",
    "  GROUP BY \n",
    "  f.\"Folder\", f.\"TestMetadata_id\"\n",
    ") as aa \n",
    "JOIN\n",
    "tests as t \n",
    "ON\n",
    "( aa.\"Folder\" = t.\"Folder\" AND aa.\"TestMetadata_id\" = t.\"Specimen number\")\"\"\"\n",
    "result = session.execute(sqlstatement).all()"
   ]
  },
  {
   "cell_type": "markdown",
   "id": "0fed8d94",
   "metadata": {},
   "source": [
    "Here I collect the result of the query, and save the coordinates. It's not immediatel clear what x and y are in here, but it should be easy once the query is analyzed."
   ]
  },
  {
   "cell_type": "code",
   "execution_count": 9,
   "id": "15db4532",
   "metadata": {},
   "outputs": [],
   "source": [
    "result\n",
    "x, y  = ([i[0] for i in result], [i[1] for i in result])\n"
   ]
  },
  {
   "cell_type": "markdown",
   "id": "a15542b6",
   "metadata": {},
   "source": [
    "Here, a basic Bokeh plot to show the relation between the two variables."
   ]
  },
  {
   "cell_type": "code",
   "execution_count": 10,
   "id": "68310706",
   "metadata": {},
   "outputs": [
    {
     "name": "stdout",
     "output_type": "stream",
     "text": [
      "Opening in existing browser session.\n"
     ]
    },
    {
     "name": "stderr",
     "output_type": "stream",
     "text": [
      "[156475:156475:0100/000000.445973:ERROR:sandbox_linux.cc(378)] InitializeSandbox() called with multiple threads in process gpu-process.\n"
     ]
    }
   ],
   "source": [
    "# importing the modules\n",
    "from bokeh.plotting import figure, output_file, show\n",
    "from bokeh.models import HoverTool, BoxSelectTool\n",
    "\n",
    "output_file(\"stress_load.html\")\n",
    "TOOLS = [BoxSelectTool(), HoverTool()]\n",
    "\n",
    "   \n",
    "# instantiating the figure object\n",
    "graph = figure(\n",
    "    title = \"Relation between maximum load and maximum stress\",\n",
    "    tools=TOOLS)\n",
    "graph.circle(x=x, y=y,fill_alpha=0.2, size=10)\n",
    "\n",
    "   \n",
    "# displaying the model\n",
    "show(graph)"
   ]
  },
  {
   "cell_type": "code",
   "execution_count": null,
   "id": "fe076e7b",
   "metadata": {},
   "outputs": [],
   "source": []
  }
 ],
 "metadata": {
  "kernelspec": {
   "display_name": "Python backend",
   "language": "python",
   "name": "backend"
  },
  "language_info": {
   "codemirror_mode": {
    "name": "ipython",
    "version": 3
   },
   "file_extension": ".py",
   "mimetype": "text/x-python",
   "name": "python",
   "nbconvert_exporter": "python",
   "pygments_lexer": "ipython3",
   "version": "3.8.0"
  }
 },
 "nbformat": 4,
 "nbformat_minor": 5
}
